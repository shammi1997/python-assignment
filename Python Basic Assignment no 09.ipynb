{
 "cells": [
  {
   "cell_type": "markdown",
   "id": "5309239d",
   "metadata": {},
   "source": [
    "# Assignment No 09"
   ]
  },
  {
   "cell_type": "code",
   "execution_count": null,
   "id": "d845143e",
   "metadata": {},
   "outputs": [],
   "source": [
    "1. To what does a relative path refer?\n",
    "\n",
    "Ans:- A relative path describes the location of a file relative to the current (working) directory*. \n",
    "      An absolute path describes the location from the root directory. \n",
    "      When learning to access data files through programming, we regularly use relative file paths."
   ]
  },
  {
   "cell_type": "code",
   "execution_count": null,
   "id": "03074d20",
   "metadata": {},
   "outputs": [],
   "source": [
    "2. What does an absolute path start with your operating system?\n",
    "\n",
    "Ans:-An absolute path is defined as the specifying the location of a file or directory from the root directory(/).\n",
    "     In other words we can say absolute path is a complete path from start of actual filesystem from / directory."
   ]
  },
  {
   "cell_type": "code",
   "execution_count": null,
   "id": "61cba4b7",
   "metadata": {},
   "outputs": [],
   "source": [
    "3.What do the functions os.getcwd() and os.chdir() do?\n",
    "\n",
    "Ans:- OS.getcwd() : CWD stands for Current Working Directory.This function allows you to see what your current working directory\n",
    "    \n",
    "       os.chdir() method in Python used to change the current working directory to specified path. \n",
    "                  It takes only a single argument as new directory path."
   ]
  },
  {
   "cell_type": "code",
   "execution_count": null,
   "id": "f1b9ea4b",
   "metadata": {},
   "outputs": [],
   "source": [
    "4.What are the . and .. folders?\n",
    "\n",
    "Ans:- The . folder is the current in folder\n",
    "      \n",
    "      ..  you can move back from this location. That is, you're in a folder inside of another folder."
   ]
  },
  {
   "cell_type": "code",
   "execution_count": null,
   "id": "6c589c03",
   "metadata": {},
   "outputs": [],
   "source": [
    "5.In C:\\bacon\\eggs\\spam.txt, which part is the dir name, and which part is the base name?\n",
    "    \n",
    "Ans:-C:\\bacon\\eggs is the dir name\n",
    "    \n",
    "     spam. txt is the base name."
   ]
  },
  {
   "cell_type": "code",
   "execution_count": null,
   "id": "af388fef",
   "metadata": {},
   "outputs": [],
   "source": [
    "6.What are the three “mode” arguments that can be passed to the open() function?\n",
    "\n",
    "Ans:- The open() is used to return a file in either the read or the write mode. \n",
    "       The user uses the open() function with two arguments: the file name and \n",
    "       the mode (read or write) to return a file object. Different modes are available for this are:\n",
    "\n",
    "        “ r “, for reading the file\n",
    "        \n",
    "        “ r+ “,this mode if used for both reading and writing the file\n",
    "        \n",
    "        “ w “, for writing the file.\n",
    "        \n",
    "        “ a “, for appending the file."
   ]
  },
  {
   "cell_type": "code",
   "execution_count": null,
   "id": "d59819e1",
   "metadata": {},
   "outputs": [],
   "source": [
    "7. What happens if an existing file is opened in write mode?\n",
    "\n",
    "Ans:- If a file already exists, its content is erased, and new content is added to the file."
   ]
  },
  {
   "cell_type": "code",
   "execution_count": null,
   "id": "9f5674fa",
   "metadata": {},
   "outputs": [],
   "source": [
    "8.How do you tell the difference between read() and readlines()?\n",
    "\n",
    "Ans:- The read() will read the whole file at once and then print out \n",
    "       the first characters that take up as many bytes as you specify in the parenthesis versus.\n",
    "        \n",
    "       the readline() that will read and print out only the first characters that\n",
    "          take up as many bytes as you specify in the parenthesis. "
   ]
  },
  {
   "cell_type": "code",
   "execution_count": null,
   "id": "12397458",
   "metadata": {},
   "outputs": [],
   "source": [
    "9. What data structure does a shelf value resemble?\n",
    "\n",
    "Ans:-A shelf value resembles a dictionary value; it has keys and values, \n",
    "     along with keys() and values() methods that work similarly to\n",
    "     the dictionary methods of the same names."
   ]
  },
  {
   "cell_type": "code",
   "execution_count": null,
   "id": "add53af2",
   "metadata": {},
   "outputs": [],
   "source": []
  },
  {
   "cell_type": "code",
   "execution_count": null,
   "id": "0023d9cc",
   "metadata": {},
   "outputs": [],
   "source": []
  },
  {
   "cell_type": "code",
   "execution_count": null,
   "id": "409a972a",
   "metadata": {},
   "outputs": [],
   "source": []
  }
 ],
 "metadata": {
  "kernelspec": {
   "display_name": "Python 3 (ipykernel)",
   "language": "python",
   "name": "python3"
  },
  "language_info": {
   "codemirror_mode": {
    "name": "ipython",
    "version": 3
   },
   "file_extension": ".py",
   "mimetype": "text/x-python",
   "name": "python",
   "nbconvert_exporter": "python",
   "pygments_lexer": "ipython3",
   "version": "3.10.9"
  }
 },
 "nbformat": 4,
 "nbformat_minor": 5
}
