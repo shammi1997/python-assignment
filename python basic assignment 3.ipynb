{
 "cells": [
  {
   "cell_type": "markdown",
   "metadata": {},
   "source": [
    "# Assignment no 3"
   ]
  },
  {
   "cell_type": "markdown",
   "metadata": {},
   "source": [
    "1. Why are functions advantageous to have in your programs?\n",
    "\n",
    "\n",
    "Ans:- 1. It helps to divide the large programs into small groups so \n",
    "         that we can read the code and debug the program faster and better.\n",
    "       2. Functions stop us from writing the same logic various times.\n",
    "          We can bind the logic in one def and then call the same over and over.\n",
    "       3. Many persons can work on the same program by assigning different methods to each of them.\n",
    "       4. It encourages us to call the same method with different inputs multiple times."
   ]
  },
  {
   "cell_type": "markdown",
   "metadata": {},
   "source": [
    "2. When does the code in a function run: when it's specified or when it's called?\n",
    "    \n",
    "Ans:- A function is a block of code which only runs when it is called. You can pass data, known as parameters, into a function.\n",
    "     1. Use the keyword def to declare the function and follow this up with the function name.\n",
    "     2. Add parameters to the function: they should be within the parentheses of the function. End your line with a colon.\n",
    "     3.Add statements that the functions should execute.\n",
    "     4.End your function with a return statement if the function should output something.\n",
    "        Without the return statement, your function will return an object None."
   ]
  },
  {
   "cell_type": "markdown",
   "metadata": {},
   "source": [
    "3. What statement creates a function?\n",
    "\n",
    "Ans:- you define a function with the def keyword, then write the function identifier (name) followed by parentheses and a colon.\n",
    "     \n",
    "        def functionName():"
   ]
  },
  {
   "cell_type": "code",
   "execution_count": null,
   "metadata": {},
   "outputs": [],
   "source": [
    "4. What is the difference between a function and a function call?\n",
    "\n",
    "Ans:- A function is a block of code that does a particular operation and returns a result. \n",
    "      It usually accepts inputs as parameters and returns a result. The parameters are not mandatory.\n",
    "\n",
    "    A function call is the code used to pass control to a function.\n"
   ]
  },
  {
   "cell_type": "code",
   "execution_count": 11,
   "metadata": {},
   "outputs": [],
   "source": [
    "def Function_add(a,b):# def of func\n",
    "    return a+ b\n"
   ]
  },
  {
   "cell_type": "code",
   "execution_count": 16,
   "metadata": {},
   "outputs": [
    {
     "data": {
      "text/plain": [
       "11"
      ]
     },
     "execution_count": 16,
     "metadata": {},
     "output_type": "execute_result"
    }
   ],
   "source": [
    "Function_add(5,6) # calling of function"
   ]
  },
  {
   "cell_type": "markdown",
   "metadata": {},
   "source": [
    "5. How many global scopes are there in a Python program? How many local scopes?\n",
    "\n",
    "Ans:-global scope:- There's only one global Python scope per program execution. \n",
    "     This scope remains in existence until the program terminates and all its names are forgotten. \n",
    "     Otherwise, the next time you were to run the program, the names would remember their values from the previous run.\n",
    "    \n",
    "local scope:- define a variable within a function, its scope lies ONLY within the function. \n",
    "              It is accessible from the point at which it is defined until the end of the function and \n",
    "             exists for as long as the function is executing (Source). \n",
    "             Which means its value cannot be changed or even accessed from outside the function. "
   ]
  },
  {
   "cell_type": "code",
   "execution_count": null,
   "metadata": {},
   "outputs": [],
   "source": [
    "6. What happens to variables in a local scope when the function call returns?\n",
    "\n",
    "Ans:- When a function returns, the local scope is destroyed."
   ]
  },
  {
   "cell_type": "markdown",
   "metadata": {},
   "source": [
    "7. What is the concept of a return value? Is it possible to have a return value in an expression?\n",
    "\n",
    "Ans:-The Python return statement is a key component of functions and methods. You can use the return \n",
    "    statement to make your functions send Python objects back to the caller code. These objects are \n",
    "    known as the function's return value. You can use them to perform further computation in your programs."
   ]
  },
  {
   "cell_type": "markdown",
   "metadata": {},
   "source": [
    "8. If a function does not have a return statement, what is the return value of a call to that function?\n",
    "\n",
    "Ans:-If a function doesn't have a return statement, specify a return value, it returns \"None\" ."
   ]
  },
  {
   "cell_type": "code",
   "execution_count": null,
   "metadata": {},
   "outputs": [],
   "source": [
    "9. How do you make a function variable refer to the global variable?\n",
    "\n",
    "Ans:- To make function variable as a global variable you can use the global keyword to declare which variables are global."
   ]
  },
  {
   "cell_type": "code",
   "execution_count": 17,
   "metadata": {},
   "outputs": [
    {
     "name": "stdout",
     "output_type": "stream",
     "text": [
      "Python is fantastic\n"
     ]
    }
   ],
   "source": [
    "def myfunc():\n",
    "  global x\n",
    "  x = \"fantastic\"\n",
    "\n",
    "myfunc()\n",
    "\n",
    "print(\"Python is \" + x)"
   ]
  },
  {
   "cell_type": "markdown",
   "metadata": {},
   "source": [
    "10. What is the data type of None?\n",
    "\n",
    "Ans:- None is a data type of its own (NoneType)."
   ]
  },
  {
   "cell_type": "markdown",
   "metadata": {},
   "source": [
    "11. What does the sentence import areallyourpetsnamederic do?\n",
    "\n",
    "\n",
    "Ans:- that import statement imports a module named areallyourpetsnamederic. (But a module of this name doesnt exists in Python)"
   ]
  },
  {
   "cell_type": "markdown",
   "metadata": {},
   "source": [
    "12. If you had a bacon() feature in a spam module, what would you call it after importing spam?\n",
    "\n",
    "Ans:-import spam\n",
    "    \n",
    "     spam.bacon()"
   ]
  },
  {
   "cell_type": "code",
   "execution_count": null,
   "metadata": {},
   "outputs": [],
   "source": [
    "13. What can you do to save a programme from crashing if it encounters an error?\n",
    "\n",
    "Ans:- Python Try Except is a way to handle so-called exceptions in Python programs \n",
    "    so that the application does not crash. The Try Block encloses the lines that \n",
    "    could potentially lead to exceptions. The Except Block, on the other hand, \n",
    "    defines the code that should be executed in the event of an error"
   ]
  },
  {
   "cell_type": "markdown",
   "metadata": {},
   "source": [
    "14. What is the purpose of the try clause? What is the purpose of the except clause?\n",
    "\n",
    "Ans:- The try block lets you test a block of code for errors.\n",
    "\n",
    "      The except block lets you handle the error.\n",
    "\n",
    "      The else block lets you execute code when there is no error.\n",
    "\n",
    "      The finally block lets you execute code, regardless of the result of the try- and except blocks.\n",
    "\n"
   ]
  },
  {
   "cell_type": "code",
   "execution_count": null,
   "metadata": {},
   "outputs": [],
   "source": [
    "try:\n",
    "  print(x)\n",
    "except:\n",
    "  print(\"An exception occurred\")\n"
   ]
  },
  {
   "cell_type": "code",
   "execution_count": null,
   "metadata": {},
   "outputs": [],
   "source": []
  },
  {
   "cell_type": "code",
   "execution_count": null,
   "metadata": {},
   "outputs": [],
   "source": []
  },
  {
   "cell_type": "code",
   "execution_count": null,
   "metadata": {},
   "outputs": [],
   "source": []
  },
  {
   "cell_type": "code",
   "execution_count": null,
   "metadata": {},
   "outputs": [],
   "source": []
  }
 ],
 "metadata": {
  "kernelspec": {
   "display_name": "Python 3",
   "language": "python",
   "name": "python3"
  },
  "language_info": {
   "codemirror_mode": {
    "name": "ipython",
    "version": 3
   },
   "file_extension": ".py",
   "mimetype": "text/x-python",
   "name": "python",
   "nbconvert_exporter": "python",
   "pygments_lexer": "ipython3",
   "version": "3.7.0"
  }
 },
 "nbformat": 4,
 "nbformat_minor": 2
}
