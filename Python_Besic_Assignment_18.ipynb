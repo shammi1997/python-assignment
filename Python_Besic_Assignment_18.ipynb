{
  "nbformat": 4,
  "nbformat_minor": 0,
  "metadata": {
    "colab": {
      "provenance": []
    },
    "kernelspec": {
      "name": "python3",
      "display_name": "Python 3"
    },
    "language_info": {
      "name": "python"
    }
  },
  "cells": [
    {
      "cell_type": "code",
      "source": [
        "!type zoo.py\n"
      ],
      "metadata": {
        "id": "INsnTLNK9mwo"
      },
      "execution_count": null,
      "outputs": []
    },
    {
      "cell_type": "code",
      "source": [
        "1. Create a zoo.py file first. Define the hours() function, which prints the string 'Open 9-5 daily'.\n",
        "Then, use the interactive interpreter to import the zoo module and call its hours() function.\n",
        "\n",
        "\n",
        "\n",
        "import zoo\n",
        "zoo.hours()"
      ],
      "metadata": {
        "id": "GOagcLRi_RN3"
      },
      "execution_count": null,
      "outputs": []
    },
    {
      "cell_type": "code",
      "source": [
        "2. In the interactive interpreter, import the zoo module as menagerie and call its hours() function.\n",
        "\n",
        "\n",
        "import zoo as menagerie\n",
        "menagerie.hours()"
      ],
      "metadata": {
        "id": "dygRVBcf_x_G"
      },
      "execution_count": null,
      "outputs": []
    },
    {
      "cell_type": "code",
      "source": [
        "3. Using the interpreter, explicitly import and call the hours() function from zoo.\n",
        "\n",
        "\n",
        "\n",
        "from zoo import hours\n",
        "hours()"
      ],
      "metadata": {
        "id": "m0t5TlN9_4T1"
      },
      "execution_count": null,
      "outputs": []
    },
    {
      "cell_type": "code",
      "source": [
        "4. Import the hours() function as info and call it.\n",
        "\n",
        "\n",
        "\n",
        "\n",
        "\n",
        "from zoo import hours as info\n",
        "info()"
      ],
      "metadata": {
        "id": "mjy2kucnAGZe"
      },
      "execution_count": null,
      "outputs": []
    },
    {
      "cell_type": "code",
      "source": [
        "5. Create a plain dictionary with the key-value pairs 'a': 1, 'b': 2, and 'c': 3, and print it out.\n",
        "\n",
        "\n",
        "\n",
        "plain_dict = {'a':1,'b':2,'c':3}\n",
        "print(plain_dict)"
      ],
      "metadata": {
        "id": "TI1Jng9NALFg"
      },
      "execution_count": null,
      "outputs": []
    },
    {
      "cell_type": "code",
      "source": [
        "6.Make an OrderedDict called fancy from the same pairs listed in 5 and print it. Did it print in the same order as plain?\n",
        "\n",
        "\n",
        "\n",
        "from collections import OrderedDict\n",
        "fancy = OrderedDict(plain_dict)\n",
        "print(f'plain_dict -> {plain_dict}')\n",
        "print(f'fancy -> {fancy}')"
      ],
      "metadata": {
        "id": "7NSmQEznAT_o"
      },
      "execution_count": null,
      "outputs": []
    },
    {
      "cell_type": "code",
      "source": [
        "7. Make a default dictionary called dict_of_lists and pass it the argument list. Make the list dict_of_lists['a'] and append the value 'something for a' to it in one assignment.\n",
        "Print dict_of_lists['a'].\n",
        "\n",
        "\n",
        "\n",
        "\n",
        "from collections import defaultdict\n",
        "dict_of_lists = defaultdict(list)\n",
        "dict_of_lists['a'].append('something for a')\n",
        "print(dict_of_lists['a'])"
      ],
      "metadata": {
        "id": "eZj8tmPSAZ1h"
      },
      "execution_count": null,
      "outputs": []
    }
  ]
}