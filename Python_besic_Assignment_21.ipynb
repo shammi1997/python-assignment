{
  "nbformat": 4,
  "nbformat_minor": 0,
  "metadata": {
    "colab": {
      "provenance": []
    },
    "kernelspec": {
      "name": "python3",
      "display_name": "Python 3"
    },
    "language_info": {
      "name": "python"
    }
  },
  "cells": [
    {
      "cell_type": "code",
      "execution_count": 1,
      "metadata": {
        "colab": {
          "base_uri": "https://localhost:8080/"
        },
        "id": "o8fcSYF2M1St",
        "outputId": "3e4768dd-99a1-433d-e4bc-81ffd0c05183"
      },
      "outputs": [
        {
          "output_type": "stream",
          "name": "stdout",
          "text": [
            "26-08-2024\n"
          ]
        }
      ],
      "source": [
        "#1. Add the current date to the text file today.txt as a string.\n",
        "\n",
        "\n",
        "\n",
        "\n",
        "import datetime\n",
        "# Code to Add current date to the today.txt file\n",
        "file = open('today.txt','w')\n",
        "file.write(datetime.datetime.now().strftime(\"%d-%m-%Y\"))\n",
        "file.close()\n",
        "# Code to Read current date from today.txt file\n",
        "file = open('today.txt','r')\n",
        "print(file.read())\n",
        "file.close()\n"
      ]
    },
    {
      "cell_type": "code",
      "source": [
        "#2. Read the text file today.txt into the string today_string\n",
        "\n",
        "\n",
        "\n",
        "file = open('today.txt','r')\n",
        "today_string = file.read()\n",
        "print(today_string)"
      ],
      "metadata": {
        "colab": {
          "base_uri": "https://localhost:8080/"
        },
        "id": "HNfGSEjjRF8B",
        "outputId": "5bb84b7e-cc12-48cf-b301-216de1d836af"
      },
      "execution_count": 2,
      "outputs": [
        {
          "output_type": "stream",
          "name": "stdout",
          "text": [
            "26-08-2024\n"
          ]
        }
      ]
    },
    {
      "cell_type": "code",
      "source": [
        "#3. Parse the date from today_string.\n",
        "\n",
        "\n",
        "\n",
        "from datetime import datetime\n",
        "parsed_data = datetime.strptime(today_string, '%d-%m-%Y')\n",
        "print(parsed_data)"
      ],
      "metadata": {
        "colab": {
          "base_uri": "https://localhost:8080/"
        },
        "id": "30V3qNrURPPK",
        "outputId": "b3ffe70f-077b-4969-b1f5-cfbeb9954d1b"
      },
      "execution_count": 3,
      "outputs": [
        {
          "output_type": "stream",
          "name": "stdout",
          "text": [
            "2024-08-26 00:00:00\n"
          ]
        }
      ]
    },
    {
      "cell_type": "code",
      "source": [
        "#4. List the files in your current directory\n",
        "\n",
        "\n",
        "import os\n",
        "for folders, subfolders, files in os.walk(os.getcwd()):\n",
        "    for file in files:\n",
        "        print(file)"
      ],
      "metadata": {
        "colab": {
          "base_uri": "https://localhost:8080/"
        },
        "id": "Y5BbRU-NRS4H",
        "outputId": "cba9e44b-5fdf-41b8-f1cf-5766863afd54"
      },
      "execution_count": 4,
      "outputs": [
        {
          "output_type": "stream",
          "name": "stdout",
          "text": [
            "today.txt\n",
            "config_sentinel\n",
            ".last_survey_prompt.yaml\n",
            "hidden_gcloud_config_universe_descriptor_data_cache_configs.db\n",
            "default_configs.db\n",
            "active_config\n",
            ".last_update_check.json\n",
            ".last_opt_in_prompt.yaml\n",
            "gce\n",
            "config_default\n",
            "13.24.12.258567.log\n",
            "13.24.12.910453.log\n",
            "13.23.30.022570.log\n",
            "13.24.01.026473.log\n",
            "13.24.01.867654.log\n",
            "13.23.50.415253.log\n",
            "README.md\n",
            "anscombe.json\n",
            "california_housing_test.csv\n",
            "california_housing_train.csv\n",
            "mnist_test.csv\n",
            "mnist_train_small.csv\n"
          ]
        }
      ]
    },
    {
      "cell_type": "code",
      "source": [
        "#5. Create a list of all of the files in your parent directory (minimum five files should be available).\n",
        "\n",
        "\n",
        "\n",
        "import os\n",
        "os.listdir()"
      ],
      "metadata": {
        "colab": {
          "base_uri": "https://localhost:8080/"
        },
        "id": "3ydvwvpGRYF5",
        "outputId": "ac2d3cb1-65ef-479e-9c80-ae26fb07a300"
      },
      "execution_count": 5,
      "outputs": [
        {
          "output_type": "execute_result",
          "data": {
            "text/plain": [
              "['.config', 'today.txt', 'sample_data']"
            ]
          },
          "metadata": {},
          "execution_count": 5
        }
      ]
    },
    {
      "cell_type": "code",
      "source": [
        "#6. Use multiprocessing to create three separate processes. Make each one wait a random number of seconds between one and five, print the current time, and then exit.\n",
        "\n",
        "\n",
        "\n",
        "\n",
        "\n",
        "import multiprocessing\n",
        "import time\n",
        "import random\n",
        "import datetime\n",
        "\n",
        "def procOne():\n",
        "    print(f'Proc_one_Starttime -> {datetime.datetime.now()}')\n",
        "    time.sleep(random.randint(1,5))\n",
        "    print(f'Proc_one_Endtime -> {datetime.datetime.now()}')\n",
        "\n",
        "def procTwo():\n",
        "    print(f'Proc_two_Starttime -> {datetime.datetime.now()}')\n",
        "    time.sleep(random.randint(1,5))\n",
        "    print(f'Proc_two_Endtime -> {datetime.datetime.now()}')\n",
        "\n",
        "def procThree():\n",
        "    print(f'Proc_two_Starttime -> {datetime.datetime.now()}')\n",
        "    time.sleep(random.randint(1,5))\n",
        "    print(f'Proc_two_Endtime -> {datetime.datetime.now()}')\n",
        "\n",
        "if __name__ == \"__main__\":\n",
        "    p1 = multiprocessing.Process(target=procOne)\n",
        "    p2 = multiprocessing.Process(target=procTwo)\n",
        "    p3 = multiprocessing.Process(target=procThree)\n",
        "\n",
        "    p1.start()\n",
        "    p2.start()\n",
        "    p3.start()\n",
        "\n",
        "    p1.join()\n",
        "    p2.join()\n",
        "    p3.join()"
      ],
      "metadata": {
        "colab": {
          "base_uri": "https://localhost:8080/"
        },
        "id": "r6jPfFjVReg3",
        "outputId": "c5db941b-fdf1-4093-807b-8659e9a0c91f"
      },
      "execution_count": 6,
      "outputs": [
        {
          "output_type": "stream",
          "name": "stdout",
          "text": [
            "Proc_one_Starttime -> 2024-08-26 15:20:35.380383Proc_two_Starttime -> 2024-08-26 15:20:35.407017\n",
            "Proc_two_Starttime -> 2024-08-26 15:20:35.413738\n",
            "\n",
            "Proc_one_Endtime -> 2024-08-26 15:20:37.443382\n",
            "Proc_two_Endtime -> 2024-08-26 15:20:37.446494\n",
            "Proc_two_Endtime -> 2024-08-26 15:20:39.456784\n"
          ]
        }
      ]
    },
    {
      "cell_type": "code",
      "source": [
        "#7. Create a date object of your day of birth.\n",
        "\n",
        "\n",
        "\n",
        "from datetime import datetime\n",
        "my_dob = datetime.strptime('02/01/1997','%d/%m/%Y')\n",
        "print(my_dob, type(my_dob))"
      ],
      "metadata": {
        "colab": {
          "base_uri": "https://localhost:8080/"
        },
        "id": "6FPQqynJRmPE",
        "outputId": "a4a5afa3-e31e-4efc-dd0e-ccf556ec3b76"
      },
      "execution_count": 10,
      "outputs": [
        {
          "output_type": "stream",
          "name": "stdout",
          "text": [
            "1997-01-02 00:00:00 <class 'datetime.datetime'>\n"
          ]
        }
      ]
    },
    {
      "cell_type": "code",
      "source": [
        "#8. What day of the week was your day of birth?\n",
        "\n",
        "\n",
        "from datetime import datetime\n",
        "my_dob = datetime(1997,1,2)\n",
        "my_dob.strftime(\"%A\")"
      ],
      "metadata": {
        "colab": {
          "base_uri": "https://localhost:8080/",
          "height": 36
        },
        "id": "BErBTJFwRtDy",
        "outputId": "db9a8e8c-7629-48b0-a050-2193cf686563"
      },
      "execution_count": 9,
      "outputs": [
        {
          "output_type": "execute_result",
          "data": {
            "text/plain": [
              "'Thursday'"
            ],
            "application/vnd.google.colaboratory.intrinsic+json": {
              "type": "string"
            }
          },
          "metadata": {},
          "execution_count": 9
        }
      ]
    },
    {
      "cell_type": "code",
      "source": [
        "#9. When will you be (or when were you) 10,000 days old?\n",
        "\n",
        "\n",
        "\n",
        "from datetime import datetime, timedelta\n",
        "my_dob = datetime.strptime(\"02/01/1997\",'%d/%m/%Y')\n",
        "future_date = my_dob-timedelta(10000)\n",
        "future_date"
      ],
      "metadata": {
        "colab": {
          "base_uri": "https://localhost:8080/"
        },
        "id": "YaUuzjLMRx_Q",
        "outputId": "192cecd3-e6fe-4b7b-e56c-b1fc85deb7f0"
      },
      "execution_count": 11,
      "outputs": [
        {
          "output_type": "execute_result",
          "data": {
            "text/plain": [
              "datetime.datetime(1969, 8, 17, 0, 0)"
            ]
          },
          "metadata": {},
          "execution_count": 11
        }
      ]
    }
  ]
}