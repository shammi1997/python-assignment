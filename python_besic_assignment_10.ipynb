{
  "nbformat": 4,
  "nbformat_minor": 0,
  "metadata": {
    "colab": {
      "provenance": []
    },
    "kernelspec": {
      "name": "python3",
      "display_name": "Python 3"
    },
    "language_info": {
      "name": "python"
    }
  },
  "cells": [
    {
      "cell_type": "code",
      "source": [
        "1. How do you distinguish between shutil.copy() and shutil.copytree()?\n",
        "\n",
        "\n",
        "Ans: shutil.copy() method is used to copy the contents of a file from one file to another file/folder, it primary takes two arguments src,dest,\n",
        "src represents the file to be copied where as destination refers to the file/folder to where the src data should be copied,\n",
        "if dest is a folder name the src with exact name will be copied to the dest folder, if its a file then the contents of src will be copied to dest where dest retains it name.\n",
        "shutil.copytree() function is used to copy the entire contents of a folder to other folder. it also takes two arguments src & dest,\n",
        "it copies all the content recursively and stores it in dest. the important catch here is dest must not exist prior to this and it will be created during the copy operation.\n",
        " Permissions and times of directories are copied with shutil.copystat() and individual files are copied using shutil.\n",
        " copy2() by default which can be modified using copy_function attribute."
      ],
      "metadata": {
        "id": "l0vchLUkBVA7"
      },
      "execution_count": null,
      "outputs": []
    },
    {
      "cell_type": "code",
      "source": [
        "2. What function is used to rename files??\n",
        "Ans: os.rename() function is used to rename files or directories using a python program, this function takes two arguments src and dest,\n",
        "src represents the name file/directory which we want to rename, whereas dest represents the new name of the file/directory."
      ],
      "metadata": {
        "id": "QzyJCLJQBycE"
      },
      "execution_count": null,
      "outputs": []
    },
    {
      "cell_type": "code",
      "source": [
        "3. What is the difference between the delete functions in the send2trash and shutil modules?\n",
        "Ans: Shutil module provides a funciton called as shutil.rmtree() which deletes a directory and all its contents.\n",
        "The other functions with similar functionality are os.remove() -> removes a file, os.rmdir() removes a empty directory.\n",
        "The problem with these functions is once a file is deleted. it will be lost permanently, if a file is deleted accidentally using these methods\n",
        "there is no way we can recover the deleted file\n",
        "Where as send2trash module provides a function called send2trash.send2trash() to delete a file/directory.\n",
        "these methods moves the files/directories to trash folder instead of permanently deleting them.\n",
        "hence if a file/folder is deleted accidentally it can be still recovered from trash folder, if is deleted using the send2trash.send2trash() function.\n",
        "send2trash is not included with python standard libary like os & shutil modules. it needs to be installed explicitly using the command !pip install send2trash"
      ],
      "metadata": {
        "id": "DRQkMnUqB9Ka"
      },
      "execution_count": null,
      "outputs": []
    },
    {
      "cell_type": "code",
      "source": [
        "4.ZipFile objects have a close() method just like File objects’ close() method. What ZipFile method is equivalent to File objects’ open() method?\n",
        "Ans: ZipFile Module provides a method called as zipfile.ZipFile() to read and write to zipFiles.\n",
        "it takes arugments lile filename and mode etc zipfile.ZipFile('filename', mode = 'r')"
      ],
      "metadata": {
        "id": "1dPx3u9yCimy"
      },
      "execution_count": null,
      "outputs": []
    },
    {
      "cell_type": "code",
      "source": [
        "##5. Create a programme that searches a folder tree for files with a certain file extension (such as .pdf or .jpg). Copy these files from whatever location they are in to a new folder\n",
        "\n",
        "import os\n",
        "import shutil\n",
        "\n",
        "def search_and_copy(source,destination,extensions):\n",
        "    source = os.path.abspath(source)\n",
        "    destination = os.path.abspath(destination)\n",
        "    for foldername, subfolder, filenames in os.walk(source):\n",
        "        print(f'Folder Name ➞ {foldername}',end='\\n\\n')\n",
        "        print(f'Sub Folders ➞ {subfolder}',end='\\n\\n')\n",
        "        print(f'Files ➞ {filenames}',end='\\n\\n')\n",
        "        for filename in filenames:\n",
        "            fileName,extension = os.path.splitext(filename)\n",
        "            if extension in extensions:\n",
        "                targetFile = foldername+os.path.sep+fileName+extension\n",
        "                shutil.copy(targetFile, destination)\n",
        "        print(f'Files copied successfully from {source} to {destination}')\n",
        "\n",
        "extensions = ['.pdf','.jpg','.ipynb']\n",
        "source = 'Dummy Source'\n",
        "destination = 'Dummy Destination'\n",
        "search_and_copy(source, destination, extensions)"
      ],
      "metadata": {
        "id": "rh9njsZUCzBK"
      },
      "execution_count": 3,
      "outputs": []
    }
  ]
}