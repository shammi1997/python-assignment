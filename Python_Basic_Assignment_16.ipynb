{
  "nbformat": 4,
  "nbformat_minor": 0,
  "metadata": {
    "colab": {
      "provenance": []
    },
    "kernelspec": {
      "name": "python3",
      "display_name": "Python 3"
    },
    "language_info": {
      "name": "python"
    }
  },
  "cells": [
    {
      "cell_type": "code",
      "execution_count": 1,
      "metadata": {
        "colab": {
          "base_uri": "https://localhost:8080/"
        },
        "id": "XauKWWc-9noj",
        "outputId": "d01cfa04-ddad-4f67-ed4c-e0b1d766755b"
      },
      "outputs": [
        {
          "output_type": "stream",
          "name": "stdout",
          "text": [
            "[1997, 1998, 1999, 2000, 2001, 2002]\n"
          ]
        }
      ],
      "source": [
        "##1. Create a list called years_list, starting with the year of your birth, and each year thereafter until the year of your fifth birthday.\n",
        "##For example, if you were born in 1980. the list would be years_list = [1980, 1981, 1982, 1983, 1984, 1985].\n",
        "\n",
        "\n",
        "\n",
        "\n",
        "years_list = [ele for ele in range(1997,1997+6)]\n",
        "print(years_list)"
      ]
    },
    {
      "cell_type": "code",
      "source": [
        "##2. In which year in years_list was your third birthday? Remember, you were 0 years of age for your first year.\n",
        "\n",
        "\n",
        "\n",
        "print(years_list[3])"
      ],
      "metadata": {
        "colab": {
          "base_uri": "https://localhost:8080/"
        },
        "id": "Ytu-kIPQ9-oF",
        "outputId": "257e7d4f-5b5b-41ec-cf50-d3c75f5131cf"
      },
      "execution_count": 2,
      "outputs": [
        {
          "output_type": "stream",
          "name": "stdout",
          "text": [
            "2000\n"
          ]
        }
      ]
    },
    {
      "cell_type": "code",
      "source": [
        "##3.In the years list, which year were you the oldest?\n",
        "\n",
        "\n",
        "\n",
        "print(years_list[-1])"
      ],
      "metadata": {
        "colab": {
          "base_uri": "https://localhost:8080/"
        },
        "id": "PpI-CWin-Q1S",
        "outputId": "5f235b29-2256-4ff0-8f61-85563455fa1c"
      },
      "execution_count": 3,
      "outputs": [
        {
          "output_type": "stream",
          "name": "stdout",
          "text": [
            "2002\n"
          ]
        }
      ]
    },
    {
      "cell_type": "code",
      "source": [
        "##4. Make a list called things with these three strings as elements: \"mozzarella\", \"cinderella\", \"salmonella\".\n",
        "\n",
        "\n",
        "\n",
        "\n",
        "things = [ele+'ella' for ele in ['mozzar','cinder','salmon']]\n",
        "print(things)"
      ],
      "metadata": {
        "colab": {
          "base_uri": "https://localhost:8080/"
        },
        "id": "RjyC70jV-kim",
        "outputId": "fea27209-bb9f-4a70-dab7-0d4e5808f7a4"
      },
      "execution_count": 4,
      "outputs": [
        {
          "output_type": "stream",
          "name": "stdout",
          "text": [
            "['mozzarella', 'cinderella', 'salmonella']\n"
          ]
        }
      ]
    },
    {
      "cell_type": "code",
      "source": [
        "##5. Capitalize the element in things that refers to a person and then print the list. Did it change the element in the list?\n",
        "\n",
        "\n",
        "\n",
        "\n",
        "for ele in range(len(things)):\n",
        "    if things[ele] == 'cinderella':\n",
        "        things[ele] = things[ele].capitalize()\n",
        "print(things)"
      ],
      "metadata": {
        "colab": {
          "base_uri": "https://localhost:8080/"
        },
        "id": "wTU1NHzH-sXW",
        "outputId": "245f43fe-1f66-413a-f11c-66f03dfd2502"
      },
      "execution_count": 5,
      "outputs": [
        {
          "output_type": "stream",
          "name": "stdout",
          "text": [
            "['mozzarella', 'Cinderella', 'salmonella']\n"
          ]
        }
      ]
    },
    {
      "cell_type": "code",
      "source": [
        "##6. Make a surprise list with the elements \"Groucho,\" \"Chico,\" and \"Harpo.\"\n",
        "\n",
        "\n",
        "\n",
        "\n",
        "suprise_list = ['Groucho','Chico','Harpo']\n",
        "print(suprise_list)"
      ],
      "metadata": {
        "colab": {
          "base_uri": "https://localhost:8080/"
        },
        "id": "tIxNdEYd-17R",
        "outputId": "b360d7a0-ae97-42f4-fcf9-dc3e0b2d075a"
      },
      "execution_count": 6,
      "outputs": [
        {
          "output_type": "stream",
          "name": "stdout",
          "text": [
            "['Groucho', 'Chico', 'Harpo']\n"
          ]
        }
      ]
    },
    {
      "cell_type": "code",
      "source": [
        "##7. Lowercase the last element of the surprise list, reverse it, and then capitalize it.\n",
        "\n",
        "\n",
        "\n",
        "print(suprise_list[-1].lower()[::-1].capitalize())\n"
      ],
      "metadata": {
        "colab": {
          "base_uri": "https://localhost:8080/"
        },
        "id": "tlBEnPRs--P2",
        "outputId": "5e2d0b21-7a34-49b3-8957-d506db79a273"
      },
      "execution_count": 7,
      "outputs": [
        {
          "output_type": "stream",
          "name": "stdout",
          "text": [
            "Oprah\n"
          ]
        }
      ]
    },
    {
      "cell_type": "code",
      "source": [
        "##8. Make an English-to-French dictionary called e2f and print it. Here are your starter words: dog is chien, cat is chat, and walrus is morse.\n",
        "\n",
        "\n",
        "e2f = {'dog':'chien','cat':'chat','walrus':'morse'}\n",
        "print(e2f)"
      ],
      "metadata": {
        "colab": {
          "base_uri": "https://localhost:8080/"
        },
        "id": "zkSH3C29_EG5",
        "outputId": "8e70aa7d-e5aa-4fba-b6b3-ee91b4dde0ff"
      },
      "execution_count": 8,
      "outputs": [
        {
          "output_type": "stream",
          "name": "stdout",
          "text": [
            "{'dog': 'chien', 'cat': 'chat', 'walrus': 'morse'}\n"
          ]
        }
      ]
    },
    {
      "cell_type": "code",
      "source": [
        "##9. Write the French word for walrus in your three-word dictionary e2f.\n",
        "\n",
        "\n",
        "\n",
        "print(e2f.get('walrus'))"
      ],
      "metadata": {
        "colab": {
          "base_uri": "https://localhost:8080/"
        },
        "id": "FMhen9ta_TpV",
        "outputId": "f22e9e51-d884-416e-e66b-c12dff6d1863"
      },
      "execution_count": 9,
      "outputs": [
        {
          "output_type": "stream",
          "name": "stdout",
          "text": [
            "morse\n"
          ]
        }
      ]
    },
    {
      "cell_type": "code",
      "source": [
        "##10. Make a French-to-English dictionary called f2e from e2f. Use the items method.\n",
        "\n",
        "\n",
        "\n",
        "f2e = dict([ele[::-1] for ele in e2f.items()])\n",
        "print(f2e)"
      ],
      "metadata": {
        "colab": {
          "base_uri": "https://localhost:8080/"
        },
        "id": "2FoOM2eB_ZmK",
        "outputId": "3f673802-b2e2-4aee-d561-618bf3fef054"
      },
      "execution_count": 10,
      "outputs": [
        {
          "output_type": "stream",
          "name": "stdout",
          "text": [
            "{'chien': 'dog', 'chat': 'cat', 'morse': 'walrus'}\n"
          ]
        }
      ]
    },
    {
      "cell_type": "code",
      "source": [
        "##11. Print the English version of the French word chien using f2e.\n",
        "\n",
        "\n",
        "print(f2e.get('chien'))"
      ],
      "metadata": {
        "colab": {
          "base_uri": "https://localhost:8080/"
        },
        "id": "JAE7FYjC_iTU",
        "outputId": "3299f50d-4407-46b2-b78c-ce89c5521d37"
      },
      "execution_count": 11,
      "outputs": [
        {
          "output_type": "stream",
          "name": "stdout",
          "text": [
            "dog\n"
          ]
        }
      ]
    },
    {
      "cell_type": "code",
      "source": [
        "##12. Make and print a set of English words from the keys in e2f.\n",
        "\n",
        "\n",
        "print(list(e2f.keys()))"
      ],
      "metadata": {
        "colab": {
          "base_uri": "https://localhost:8080/"
        },
        "id": "r5nf3p8__pOR",
        "outputId": "7855b827-35bc-4ad0-a2b1-27b8f645a3e7"
      },
      "execution_count": 12,
      "outputs": [
        {
          "output_type": "stream",
          "name": "stdout",
          "text": [
            "['dog', 'cat', 'walrus']\n"
          ]
        }
      ]
    },
    {
      "cell_type": "code",
      "source": [
        "##13. Make a multilevel dictionary called life. Use these strings for the topmost keys: 'animals', 'plants', and 'other'. Make the 'animals' key refer to another dictionary with the keys 'cats', 'octopi', and 'emus'. Make the 'cats' key refer to a list of strings with the values 'Henri', 'Grumpy', and 'Lucy'. Make all the other keys refer to empty dictionaries.\n",
        "\n",
        "\n",
        "\n",
        "life = {\n",
        "    'animals':{\n",
        "        'cats':['Henri','Grumpy','Lucy'],\n",
        "        'octopi':{},\n",
        "        'emus':{}\n",
        "    },\n",
        "    'plants':{},\n",
        "    'other':{}\n",
        "}\n",
        "print(life)"
      ],
      "metadata": {
        "colab": {
          "base_uri": "https://localhost:8080/"
        },
        "id": "noGSnSou_xPT",
        "outputId": "4d989dde-bd3e-44da-9816-bd2235392049"
      },
      "execution_count": 13,
      "outputs": [
        {
          "output_type": "stream",
          "name": "stdout",
          "text": [
            "{'animals': {'cats': ['Henri', 'Grumpy', 'Lucy'], 'octopi': {}, 'emus': {}}, 'plants': {}, 'other': {}}\n"
          ]
        }
      ]
    },
    {
      "cell_type": "code",
      "source": [
        "##14. Print the top-level keys of life.\n",
        "\n",
        "\n",
        "print(list(life.keys()))"
      ],
      "metadata": {
        "colab": {
          "base_uri": "https://localhost:8080/"
        },
        "id": "lZMraJ-K_9wa",
        "outputId": "415cf210-dfbf-47ad-9549-ab0d157e24e7"
      },
      "execution_count": 14,
      "outputs": [
        {
          "output_type": "stream",
          "name": "stdout",
          "text": [
            "['animals', 'plants', 'other']\n"
          ]
        }
      ]
    },
    {
      "cell_type": "code",
      "source": [
        "##15. Print the keys for life['animals'].\n",
        "\n",
        "\n",
        "\n",
        "print(list(life['animals'].keys()))"
      ],
      "metadata": {
        "colab": {
          "base_uri": "https://localhost:8080/"
        },
        "id": "15CbQ9GPAEk1",
        "outputId": "c584a21e-261c-4ba9-ec6f-a74e1c01c584"
      },
      "execution_count": 15,
      "outputs": [
        {
          "output_type": "stream",
          "name": "stdout",
          "text": [
            "['cats', 'octopi', 'emus']\n"
          ]
        }
      ]
    },
    {
      "cell_type": "code",
      "source": [
        "##16. Print the values for life['animals']['cats']\n",
        "\n",
        "\n",
        "\n",
        "print(life['animals']['cats'])"
      ],
      "metadata": {
        "colab": {
          "base_uri": "https://localhost:8080/"
        },
        "id": "zplXsdRiAJRK",
        "outputId": "1c4a4ede-d46a-4acc-9714-73c227ac7e21"
      },
      "execution_count": 16,
      "outputs": [
        {
          "output_type": "stream",
          "name": "stdout",
          "text": [
            "['Henri', 'Grumpy', 'Lucy']\n"
          ]
        }
      ]
    },
    {
      "cell_type": "code",
      "source": [],
      "metadata": {
        "id": "lDyldjPcAOYi"
      },
      "execution_count": null,
      "outputs": []
    }
  ]
}