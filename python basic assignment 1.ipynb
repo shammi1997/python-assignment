{
 "cells": [
  {
   "cell_type": "markdown",
   "metadata": {},
   "source": [
    "# PYTHON BASIC ASSIGNMENT 1"
   ]
  },
  {
   "cell_type": "markdown",
   "metadata": {},
   "source": [
    "1. In the below elements which of them are values or an expression? eg:- values can be\n",
    "integer or string and expressions will be mathematical operators.\n",
    "\n",
    "\n",
    "*:-expression\n",
    "\n",
    "\"hello\":-value\n",
    "    \n",
    "-87.8:-value\n",
    "    \n",
    "-:-expression\n",
    "    \n",
    "/:-expression\n",
    "    \n",
    "+:-expression\n",
    "    \n",
    "6:-value"
   ]
  },
  {
   "cell_type": "markdown",
   "metadata": {},
   "source": [
    "2. What is the difference between string and variable?\n",
    "ans- A Variable is a store of information,\n",
    "a String is a type of information you would store in a Variable.\n",
    "A String is usually words, enclosed with \"\"\n"
   ]
  },
  {
   "cell_type": "markdown",
   "metadata": {},
   "source": [
    "3. Describe three different data types.\n",
    "\n",
    "Ans- 1.String (Alphanumeric characters) ex:- \"hello world\", \"Alice\", \"Bob123\"\n",
    "    \n",
    "     2.Integer (Whole numbers) ex:- 7, 12, 999:\n",
    "                \n",
    "     3.Float (floating point Number with a decimal point) ex:- 3.15, 9.06, 00.13\n",
    "             \n",
    "   "
   ]
  },
  {
   "cell_type": "markdown",
   "metadata": {},
   "source": [
    "4. What is an expression made up of? What do all expressions do?\n",
    "Ans:-An expression is a combination of operators and operands that is interpreted to produce some other value.\n",
    "     example of expression can be : x = x + 1 0\n",
    "     The expression in Python produces some value or result after being interpreted by the Python interpreter."
   ]
  },
  {
   "cell_type": "markdown",
   "metadata": {},
   "source": [
    "5. This assignment statements, like spam = 10. What is the difference between an\n",
    "   expression and a statement?\n",
    "Ans:-A statement in Python is not evaluated for some results.\n",
    "    The execution of a statement changes the state of the variable. \n",
    "    \n",
    "    \n",
    "    An expression in Python is evaluated for some results.\n",
    "    The expression evaluation does not result in any state change."
   ]
  },
  {
   "cell_type": "markdown",
   "metadata": {},
   "source": [
    "6. After running the following code, what does the variable bacon contain?\n",
    "   bacon = 22\n",
    "   bacon + 1\n",
    "\n",
    "Ans:- bacon which contain value 22(output) and\n",
    "     bacon+1 which means the value 22 which is incremented by 1 which mean 23(output)"
   ]
  },
  {
   "cell_type": "code",
   "execution_count": 2,
   "metadata": {},
   "outputs": [
    {
     "data": {
      "text/plain": [
       "23"
      ]
     },
     "execution_count": 2,
     "metadata": {},
     "output_type": "execute_result"
    }
   ],
   "source": [
    "bacon=22\n",
    "bacon+1"
   ]
  },
  {
   "cell_type": "code",
   "execution_count": null,
   "metadata": {},
   "outputs": [],
   "source": [
    "7. What should the values of the following two terms be?\n",
    "\n",
    "'spam'+'spamspam':-Concatenation of two str\n",
    "    \n",
    "'spam'* 3:-multiply of spam 3 times\n"
   ]
  },
  {
   "cell_type": "code",
   "execution_count": 3,
   "metadata": {},
   "outputs": [
    {
     "data": {
      "text/plain": [
       "'spamspamspam'"
      ]
     },
     "execution_count": 3,
     "metadata": {},
     "output_type": "execute_result"
    }
   ],
   "source": [
    "'spam'+'spamspam'"
   ]
  },
  {
   "cell_type": "code",
   "execution_count": 4,
   "metadata": {},
   "outputs": [
    {
     "data": {
      "text/plain": [
       "'spamspamspam'"
      ]
     },
     "execution_count": 4,
     "metadata": {},
     "output_type": "execute_result"
    }
   ],
   "source": [
    "'spam'* 3"
   ]
  },
  {
   "cell_type": "markdown",
   "metadata": {},
   "source": [
    "8. Why is eggs a valid variable name while 100 is invalid?\n",
    "\n",
    "Ans:- Variable name should start with letter(a-zA-Z) or underscore (_).\n",
    "      In variable name, no special characters allowed other than underscore (_).\n",
    "       Variables are case sensitive.\n",
    "       Variable name can have numbers but not at the beginning.\n",
    "    "
   ]
  },
  {
   "cell_type": "markdown",
   "metadata": {},
   "source": [
    "9. What three functions can be used to get the integer, floating-point number, or string\n",
    "   version of a value?\n",
    "Ans:- The int() , float() , and str( ) functions will evaluate to the integer,\n",
    "    floating-point number, and string versions of the value passed to them."
   ]
  },
  {
   "cell_type": "code",
   "execution_count": null,
   "metadata": {},
   "outputs": [],
   "source": [
    "10. Why does this expression cause an error? How can you fix it?\n",
    "    'I have eaten'+ 99 +'burritos'\n",
    "Ans:- can only concatenate str to str not add with int\n",
    "        if you remove int then it work "
   ]
  },
  {
   "cell_type": "code",
   "execution_count": 5,
   "metadata": {},
   "outputs": [
    {
     "ename": "TypeError",
     "evalue": "can only concatenate str (not \"int\") to str",
     "output_type": "error",
     "traceback": [
      "\u001b[1;31m---------------------------------------------------------------------------\u001b[0m",
      "\u001b[1;31mTypeError\u001b[0m                                 Traceback (most recent call last)",
      "\u001b[1;32m<ipython-input-5-f3e49bc1ef90>\u001b[0m in \u001b[0;36m<module>\u001b[1;34m()\u001b[0m\n\u001b[1;32m----> 1\u001b[1;33m \u001b[1;34m'I have eaten'\u001b[0m\u001b[1;33m+\u001b[0m \u001b[1;36m99\u001b[0m \u001b[1;33m+\u001b[0m\u001b[1;34m'burritos'\u001b[0m\u001b[1;33m\u001b[0m\u001b[0m\n\u001b[0m",
      "\u001b[1;31mTypeError\u001b[0m: can only concatenate str (not \"int\") to str"
     ]
    }
   ],
   "source": [
    "'I have eaten'+ 99 +'burritos'"
   ]
  },
  {
   "cell_type": "code",
   "execution_count": 8,
   "metadata": {},
   "outputs": [
    {
     "data": {
      "text/plain": [
       "'I have eaten  burritos'"
      ]
     },
     "execution_count": 8,
     "metadata": {},
     "output_type": "execute_result"
    }
   ],
   "source": [
    "'I have eaten'+ '  ' +'burritos'"
   ]
  },
  {
   "cell_type": "code",
   "execution_count": null,
   "metadata": {},
   "outputs": [],
   "source": []
  }
 ],
 "metadata": {
  "kernelspec": {
   "display_name": "Python 3",
   "language": "python",
   "name": "python3"
  },
  "language_info": {
   "codemirror_mode": {
    "name": "ipython",
    "version": 3
   },
   "file_extension": ".py",
   "mimetype": "text/x-python",
   "name": "python",
   "nbconvert_exporter": "python",
   "pygments_lexer": "ipython3",
   "version": "3.7.0"
  }
 },
 "nbformat": 4,
 "nbformat_minor": 2
}
