{
  "nbformat": 4,
  "nbformat_minor": 0,
  "metadata": {
    "colab": {
      "provenance": []
    },
    "kernelspec": {
      "name": "python3",
      "display_name": "Python 3"
    },
    "language_info": {
      "name": "python"
    }
  },
  "cells": [
    {
      "cell_type": "code",
      "execution_count": null,
      "metadata": {
        "id": "0BFU_9QHP0NL"
      },
      "outputs": [],
      "source": [
        "1. What advantages do Excel spreadsheets have over CSV spreadsheets?\n",
        "Ans: The Advantages of Excel over CSV are:\n",
        "\n",
        "Excel (XLS and XLSX) file formats are better for storing and analysing complex data.\n",
        "An Excel not only stores data but can also do operations on the data using macros, formulas etc\n",
        "CSV files are plain-text files, Does not contain formatting, formulas, macros, etc. It is also known as flat files"
      ]
    },
    {
      "cell_type": "code",
      "source": [
        "2.What do you pass to csv.reader() and csv.writer() to create reader and writer objects?\n",
        "import csv\n",
        "with open('text.csv','r') as file:\n",
        "    csv_file = csv.reader(file,delimiter=',')\n",
        "    for ele in csv_file:\n",
        "        print(ele)\n"
      ],
      "metadata": {
        "id": "CidIax-qQH9i"
      },
      "execution_count": null,
      "outputs": []
    },
    {
      "cell_type": "code",
      "source": [
        "3. What modes do File objects for reader and writer objects need to be opened in?\n",
        "Ans: For csv.reader(iterable_file_object), the file objects needed to be opened in read mode mode='r' Whereas for csv.writer(iterable_file_object)\n",
        "the file objects needed to be opened in write mode mode='w'"
      ],
      "metadata": {
        "id": "e3Pl8saaQOTB"
      },
      "execution_count": null,
      "outputs": []
    },
    {
      "cell_type": "code",
      "source": [
        "4. What method takes a list argument and writes it to a CSV file?\n",
        "Ans: csv.writer class provides two methods for writing to CSV. They are writerow() and writerows(). writerow() method writes a single row at a time. Whereas writerows() method is used to write multiple rows at a time.\n",
        "\n",
        "# Example Program\n",
        "import csv\n",
        "fields = ['Name', 'Branch', 'Year', 'CGPA'] #column names\n",
        "rows = [\n",
        "            ['Nikhil', 'COE', '2', '9.0'],  # data rows of csv file\n",
        "            ['Sanchit', 'COE', '2', '9.1'],\n",
        "            ['Ravi', 'IT', '2', '9.3']\n",
        "       ]\n",
        "with open(\"university_records.csv\", 'w') as csvfile:\n",
        "    csvwriter = csv.writer(csvfile) # creating a csv writer object\n",
        "    csvwriter.writerow(fields) # writing the fields\n",
        "    csvwriter.writerows(rows) # writing the data rows"
      ],
      "metadata": {
        "id": "K5qTi9yCQaKi"
      },
      "execution_count": null,
      "outputs": []
    },
    {
      "cell_type": "code",
      "source": [
        "5. What do the keyword arguments delimiter and line terminator do?\n",
        "Ans: Lets take the example of a csv file:\n",
        "First Name, Last Name, Age\n",
        "Mano, Vishnu, 24\n",
        "Vishnu, Vardhan, 21\n",
        "Here ',' is Delimiter. We can use any Character as per our needs if required. Similarly Line Terminator comes at end of line by default\n",
        "          it is newline and can be changed accourding to Requirement."
      ],
      "metadata": {
        "id": "g75uwXRAQhvB"
      },
      "execution_count": null,
      "outputs": []
    },
    {
      "cell_type": "code",
      "source": [
        "6. What function takes a string of JSON data and returns a Python data structure?\n",
        "Ans: loads() method takes a string of JSON data and returns a Python data structure\n",
        "\n",
        "# Example of json.loads() method\n",
        "import json\n",
        "my_details_json ='''{\n",
        "    \"Name\": \"Mano Vishnu\",\n",
        "    \"Qualification\": \"Bachelor of Technology\",\n",
        "    \"Stream\": \"Computer Science and Engineering\"\n",
        "}'''\n",
        "print(my_details_json)\n",
        "print(f'Type of my_details_json is {type(my_details_json)}')\n",
        "my_details = json.loads(my_details_json)\n",
        "print(my_details)\n",
        "print(f'Type of my_details is {type(my_details)}')"
      ],
      "metadata": {
        "id": "vmBRn4JfQtkC"
      },
      "execution_count": null,
      "outputs": []
    },
    {
      "cell_type": "code",
      "source": [
        "7. What function takes a Python data structure and returns a string of JSON data?\n",
        "Ans: dumps() method takes a python data structure and returns a string of JSON data\n",
        "\n",
        "# Example of json.dumps() method\n",
        "import json\n",
        "my_details = {\n",
        "    'Name':'Mano Vishnu',\n",
        "    'Stream':'Computer Science and Engineering',\n",
        "    'Qualification':'Bachelor of Technology'\n",
        "}\n",
        "print(my_details)\n",
        "print(f'Type of my_details is {type(my_details)}')\n",
        "my_details_json = json.dumps(my_details, indent=4, sort_keys=True)\n",
        "print(my_details_json)\n",
        "print(f'Type of my_details_json is {type(my_details_json)}')"
      ],
      "metadata": {
        "id": "D1C1oEWDQzz8"
      },
      "execution_count": null,
      "outputs": []
    }
  ]
}