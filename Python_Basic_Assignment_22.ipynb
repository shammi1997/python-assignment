{
  "nbformat": 4,
  "nbformat_minor": 0,
  "metadata": {
    "colab": {
      "provenance": []
    },
    "kernelspec": {
      "name": "python3",
      "display_name": "Python 3"
    },
    "language_info": {
      "name": "python"
    }
  },
  "cells": [
    {
      "cell_type": "code",
      "source": [
        "1. What is the result of the code, and explain?\n",
        ">>> X = 'iNeuron'\n",
        ">>> def func():\n",
        "    print(X)\n",
        ">>> func()\n",
        "Ans: The Result of this code is iNeuron, it's because the function intially looks for the variable X in its local scope,But since there is no local variable X, its returns the value of global variable x ie iNeuron"
      ],
      "metadata": {
        "id": "7mSzrEgXTmNA"
      },
      "execution_count": null,
      "outputs": []
    },
    {
      "cell_type": "code",
      "source": [
        "X = 'iNeuron'\n",
        "def func():\n",
        "    print(X)\n",
        "func()"
      ],
      "metadata": {
        "colab": {
          "base_uri": "https://localhost:8080/"
        },
        "id": "tPyDt_oBTwUw",
        "outputId": "c81493ec-31bb-4c03-95e4-527e5ad338cd"
      },
      "execution_count": 1,
      "outputs": [
        {
          "output_type": "stream",
          "name": "stdout",
          "text": [
            "iNeuron\n"
          ]
        }
      ]
    },
    {
      "cell_type": "code",
      "source": [
        "2. What is the result of the code, and explain?\n",
        ">>> X = 'iNeuron'\n",
        ">>> def func():\n",
        "X = 'NI!'\n",
        ">>> func()\n",
        ">>> print(X)\n",
        "Ans: The Result of this cide is NI!, because the function initially looks for the variable X in its local scope if X is not available then it checks for variable X in the global scope, Since here the X is present in the local scope. it prints the value NI!"
      ],
      "metadata": {
        "id": "nEtppxY5T0LF"
      },
      "execution_count": null,
      "outputs": []
    },
    {
      "cell_type": "code",
      "source": [
        "X = 'iNeuron'\n",
        "def func():\n",
        "    X = 'NI!'\n",
        "    print(X)\n",
        "func()"
      ],
      "metadata": {
        "colab": {
          "base_uri": "https://localhost:8080/"
        },
        "id": "eUpd7aBrT6UC",
        "outputId": "770fccc6-02a8-462b-ff44-b91ee820372c"
      },
      "execution_count": 2,
      "outputs": [
        {
          "output_type": "stream",
          "name": "stdout",
          "text": [
            "NI!\n"
          ]
        }
      ]
    },
    {
      "cell_type": "code",
      "source": [
        "3. What does this code print, and why?\n",
        ">>> X = 'iNeuron'\n",
        ">>> def func():\n",
        "X = 'NI'\n",
        "print(X)\n",
        ">>> func()\n",
        ">>> print(X)\n",
        "Ans: The output of the code is NI and iNeuron. X=NI is in the local scope of the function func() hence the function prints the x value as NI. X = 'iNeuron' is in the global scope. hence print(X) prints output as iNeuron"
      ],
      "metadata": {
        "id": "lqF0ZBFbT-ph"
      },
      "execution_count": null,
      "outputs": []
    },
    {
      "cell_type": "code",
      "source": [
        "X = 'iNeuron'\n",
        "def func():\n",
        "    X = 'NI'\n",
        "    print(X)\n",
        "func()\n",
        "print(X)"
      ],
      "metadata": {
        "colab": {
          "base_uri": "https://localhost:8080/"
        },
        "id": "bsPPB103UEHQ",
        "outputId": "8c845cb2-d43e-4075-8bc7-dfc4575855c6"
      },
      "execution_count": 3,
      "outputs": [
        {
          "output_type": "stream",
          "name": "stdout",
          "text": [
            "NI\n",
            "iNeuron\n"
          ]
        }
      ]
    },
    {
      "cell_type": "code",
      "source": [
        "4. What output does this code produce? Why?\n",
        ">>> X = 'iNeuron'\n",
        ">>> def func():\n",
        "global X\n",
        "X = 'NI'\n",
        ">>> func()\n",
        ">>> print(X)\n",
        "Ans: The output of the code is NI. the global keyword allows a variable to be accessible in the current scope. since we are using global keyword inside the function func it directly access the variable in X in global scope. and changes its value to NI. hence the output of the code is NI"
      ],
      "metadata": {
        "id": "eIVg2eicUHPg"
      },
      "execution_count": null,
      "outputs": []
    },
    {
      "cell_type": "code",
      "source": [
        "X = 'iNeuron'\n",
        "def func():\n",
        "    global X\n",
        "    X = 'NI'\n",
        "func()\n",
        "print(X)"
      ],
      "metadata": {
        "colab": {
          "base_uri": "https://localhost:8080/"
        },
        "id": "LP7D49FTULvJ",
        "outputId": "52228c84-9af2-4864-f953-fca6668a7c6c"
      },
      "execution_count": 4,
      "outputs": [
        {
          "output_type": "stream",
          "name": "stdout",
          "text": [
            "NI\n"
          ]
        }
      ]
    },
    {
      "cell_type": "code",
      "source": [
        "5. What about this code—what’s the output, and why?\n",
        ">>> X = 'iNeuron'\n",
        ">>> def func():\n",
        "X = 'NI'\n",
        "def nested():\n",
        "print(X)\n",
        "nested()\n",
        ">>> func()\n",
        ">>> X\n",
        "Ans: The output of the code is NI. the reason for this output is if a function wants to access a variable, if its not available in its localscope. it looks for the variable in its global scope. similarly here also function nested looks for variable X in its global scope. hence the output of the code is NI"
      ],
      "metadata": {
        "id": "udIhU8oBUPAS"
      },
      "execution_count": null,
      "outputs": []
    },
    {
      "cell_type": "code",
      "source": [
        "X = 'iNeuron'\n",
        "def func():\n",
        "    X = 'NI'\n",
        "    def nested():\n",
        "        print(X)\n",
        "    nested()\n",
        "func()\n",
        "X"
      ],
      "metadata": {
        "colab": {
          "base_uri": "https://localhost:8080/",
          "height": 53
        },
        "id": "tB7fHVsPUTRX",
        "outputId": "af8a61b3-8119-4dec-89c5-31586aad18e0"
      },
      "execution_count": 5,
      "outputs": [
        {
          "output_type": "stream",
          "name": "stdout",
          "text": [
            "NI\n"
          ]
        },
        {
          "output_type": "execute_result",
          "data": {
            "text/plain": [
              "'iNeuron'"
            ],
            "application/vnd.google.colaboratory.intrinsic+json": {
              "type": "string"
            }
          },
          "metadata": {},
          "execution_count": 5
        }
      ]
    },
    {
      "cell_type": "code",
      "source": [
        "6. How about this code: what is its output in Python 3, and explain?\n",
        ">>> def func():\n",
        "X = 'NI'\n",
        "def nested():\n",
        "nonlocal X\n",
        "X = 'Spam'\n",
        "nested()\n",
        "print(X)\n",
        ">>> func()\n",
        "Ans: The output of the code is Spam. nonlocal keyword in python is used to declare a variable as not local.Hence the statement X = \"Spam\" is modified in the global scope. hence the output of print(X) statement is Spam"
      ],
      "metadata": {
        "id": "bRejR7o_UWQe"
      },
      "execution_count": null,
      "outputs": []
    },
    {
      "cell_type": "code",
      "source": [
        "def func():\n",
        "    X = 'NI'\n",
        "    def nested():\n",
        "        nonlocal X\n",
        "        X = 'Spam'\n",
        "    nested()\n",
        "    print(X)\n",
        "func()"
      ],
      "metadata": {
        "colab": {
          "base_uri": "https://localhost:8080/"
        },
        "id": "ArGjxNzSUbO4",
        "outputId": "54949647-4e26-4f69-a49f-d5a9232ba00d"
      },
      "execution_count": 6,
      "outputs": [
        {
          "output_type": "stream",
          "name": "stdout",
          "text": [
            "Spam\n"
          ]
        }
      ]
    },
    {
      "cell_type": "code",
      "source": [],
      "metadata": {
        "id": "DgkrkfCNUfSs"
      },
      "execution_count": null,
      "outputs": []
    }
  ]
}